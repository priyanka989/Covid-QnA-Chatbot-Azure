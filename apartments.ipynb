{
  "cells": [
    {
      "cell_type": "markdown",
      "source": [
        "# AutoML example\r\n",
        "\r\n",
        "## Use case\r\n",
        "Predict the price of the apartment.\r\n",
        "\r\n",
        "Example features of the dataset are shown below.\r\n",
        "\r\n",
        "![](./data_table.png)\r\n",
        "\r\n",
        "## Create Azure ML\r\n",
        "\r\n",
        "1. Create Azure Machine Learning service using the Portal, ARM template, Azure CLI or other tool.\r\n",
        "\r\n",
        "2. Go to https://ml.azure.com/ and log in.\r\n",
        "\r\n",
        "\r\n",
        "## Load data to Azure ML\r\n",
        "\r\n",
        "Go to Datasets tab, and create new dataset. Import it. Set the correct dataset properties and column names.\r\n",
        "![](./load_data.png)\r\n",
        "![](./data_schema.png)\r\n",
        "\r\n",
        "## Create Notebook in Azure ML\r\n",
        "\r\n",
        "Crate new Notebook in the Azure ML. \r\n",
        "\r\n",
        "Then create new compute target, be aware of different pricing tiers. I created mine and named it _default4_.\r\n"
      ],
      "metadata": {
        "nteract": {
          "transient": {
            "deleting": false
          }
        }
      }
    },
    {
      "cell_type": "markdown",
      "source": [
        "## Authenticate to Azure\r\n",
        "\r\n",
        "Below code is used to authenticate to Azure. Run below cell and follow the instructions."
      ],
      "metadata": {
        "nteract": {
          "transient": {
            "deleting": false
          }
        }
      }
    },
    {
      "cell_type": "code",
      "source": [
        "from azureml.core import Workspace, Dataset\r\n",
        "\r\n",
        "# Get Workspace defined in by default config.json file\r\n",
        "ws = Workspace.from_config()"
      ],
      "outputs": [
        {
          "output_type": "stream",
          "name": "stdout",
          "text": [
            "Performing interactive authentication. Please follow the instructions on the terminal.\n",
            "To sign in, use a web browser to open the page https://microsoft.com/devicelogin and enter the code CESZALQCT to authenticate.\n",
            "You have logged in. Now let us find all the subscriptions to which you have access...\n",
            "Interactive authentication successfully completed.\n"
          ]
        }
      ],
      "execution_count": 1,
      "metadata": {
        "gather": {
          "logged": 1609349348836
        }
      }
    },
    {
      "cell_type": "markdown",
      "source": [
        "\r\n"
      ],
      "metadata": {
        "nteract": {
          "transient": {
            "deleting": false
          }
        }
      }
    },
    {
      "cell_type": "markdown",
      "source": [
        "## Load data\r\n",
        "Load data to Pandas data frame."
      ],
      "metadata": {
        "nteract": {
          "transient": {
            "deleting": false
          }
        }
      }
    },
    {
      "cell_type": "code",
      "source": [
        "# Load Data\r\n",
        "dataset_name = 'apartments'\r\n",
        "aml_dataset = ws.datasets[dataset_name]\r\n",
        "\r\n",
        "# Use Pandas DataFrame just to sneak peak some data and schema\r\n",
        "full_df = aml_dataset.to_pandas_dataframe()\r\n",
        "full_df.head()"
      ],
      "outputs": [
        {
          "output_type": "execute_result",
          "execution_count": 2,
          "data": {
            "text/plain": "   SalePrice  YearBuilt  YrSold  MonthSold  Size(sqf)  Floor HallwayType  \\\n0     141592       2006    2007          8        814      3    terraced   \n1      51327       1985    2007          8        587      8    corridor   \n2      48672       1985    2007          8        587      6    corridor   \n3     380530       2006    2007          8       2056      8    terraced   \n4     221238       1993    2007          8       1761      3       mixed   \n\n          HeatingType        AptManageType  N_Parkinglot(Ground)  ...  \\\n0  individual_heating  management_in_trust                 111.0  ...   \n1  individual_heating      self_management                  80.0  ...   \n2  individual_heating      self_management                  80.0  ...   \n3  individual_heating  management_in_trust                 249.0  ...   \n4  individual_heating  management_in_trust                 523.0  ...   \n\n   N_FacilitiesNearBy(Mall) N_FacilitiesNearBy(ETC) N_FacilitiesNearBy(Park)  \\\n0                       1.0                     1.0                      0.0   \n1                       1.0                     2.0                      1.0   \n2                       1.0                     2.0                      1.0   \n3                       1.0                     0.0                      0.0   \n4                       1.0                     5.0                      0.0   \n\n   N_SchoolNearBy(Elementary)  N_SchoolNearBy(Middle)  N_SchoolNearBy(High)  \\\n0                         3.0                     2.0                   2.0   \n1                         2.0                     1.0                   1.0   \n2                         2.0                     1.0                   1.0   \n3                         2.0                     2.0                   1.0   \n4                         4.0                     3.0                   5.0   \n\n  N_SchoolNearBy(University)  N_FacilitiesInApt  N_FacilitiesNearBy(Total)  \\\n0                        2.0                  5                        6.0   \n1                        0.0                  3                       12.0   \n2                        0.0                  3                       12.0   \n3                        2.0                  5                        3.0   \n4                        5.0                  4                       14.0   \n\n   N_SchoolNearBy(Total)  \n0                    9.0  \n1                    4.0  \n2                    4.0  \n3                    7.0  \n4                   17.0  \n\n[5 rows x 30 columns]",
            "text/html": "<div>\n<style scoped>\n    .dataframe tbody tr th:only-of-type {\n        vertical-align: middle;\n    }\n\n    .dataframe tbody tr th {\n        vertical-align: top;\n    }\n\n    .dataframe thead th {\n        text-align: right;\n    }\n</style>\n<table border=\"1\" class=\"dataframe\">\n  <thead>\n    <tr style=\"text-align: right;\">\n      <th></th>\n      <th>SalePrice</th>\n      <th>YearBuilt</th>\n      <th>YrSold</th>\n      <th>MonthSold</th>\n      <th>Size(sqf)</th>\n      <th>Floor</th>\n      <th>HallwayType</th>\n      <th>HeatingType</th>\n      <th>AptManageType</th>\n      <th>N_Parkinglot(Ground)</th>\n      <th>...</th>\n      <th>N_FacilitiesNearBy(Mall)</th>\n      <th>N_FacilitiesNearBy(ETC)</th>\n      <th>N_FacilitiesNearBy(Park)</th>\n      <th>N_SchoolNearBy(Elementary)</th>\n      <th>N_SchoolNearBy(Middle)</th>\n      <th>N_SchoolNearBy(High)</th>\n      <th>N_SchoolNearBy(University)</th>\n      <th>N_FacilitiesInApt</th>\n      <th>N_FacilitiesNearBy(Total)</th>\n      <th>N_SchoolNearBy(Total)</th>\n    </tr>\n  </thead>\n  <tbody>\n    <tr>\n      <th>0</th>\n      <td>141592</td>\n      <td>2006</td>\n      <td>2007</td>\n      <td>8</td>\n      <td>814</td>\n      <td>3</td>\n      <td>terraced</td>\n      <td>individual_heating</td>\n      <td>management_in_trust</td>\n      <td>111.0</td>\n      <td>...</td>\n      <td>1.0</td>\n      <td>1.0</td>\n      <td>0.0</td>\n      <td>3.0</td>\n      <td>2.0</td>\n      <td>2.0</td>\n      <td>2.0</td>\n      <td>5</td>\n      <td>6.0</td>\n      <td>9.0</td>\n    </tr>\n    <tr>\n      <th>1</th>\n      <td>51327</td>\n      <td>1985</td>\n      <td>2007</td>\n      <td>8</td>\n      <td>587</td>\n      <td>8</td>\n      <td>corridor</td>\n      <td>individual_heating</td>\n      <td>self_management</td>\n      <td>80.0</td>\n      <td>...</td>\n      <td>1.0</td>\n      <td>2.0</td>\n      <td>1.0</td>\n      <td>2.0</td>\n      <td>1.0</td>\n      <td>1.0</td>\n      <td>0.0</td>\n      <td>3</td>\n      <td>12.0</td>\n      <td>4.0</td>\n    </tr>\n    <tr>\n      <th>2</th>\n      <td>48672</td>\n      <td>1985</td>\n      <td>2007</td>\n      <td>8</td>\n      <td>587</td>\n      <td>6</td>\n      <td>corridor</td>\n      <td>individual_heating</td>\n      <td>self_management</td>\n      <td>80.0</td>\n      <td>...</td>\n      <td>1.0</td>\n      <td>2.0</td>\n      <td>1.0</td>\n      <td>2.0</td>\n      <td>1.0</td>\n      <td>1.0</td>\n      <td>0.0</td>\n      <td>3</td>\n      <td>12.0</td>\n      <td>4.0</td>\n    </tr>\n    <tr>\n      <th>3</th>\n      <td>380530</td>\n      <td>2006</td>\n      <td>2007</td>\n      <td>8</td>\n      <td>2056</td>\n      <td>8</td>\n      <td>terraced</td>\n      <td>individual_heating</td>\n      <td>management_in_trust</td>\n      <td>249.0</td>\n      <td>...</td>\n      <td>1.0</td>\n      <td>0.0</td>\n      <td>0.0</td>\n      <td>2.0</td>\n      <td>2.0</td>\n      <td>1.0</td>\n      <td>2.0</td>\n      <td>5</td>\n      <td>3.0</td>\n      <td>7.0</td>\n    </tr>\n    <tr>\n      <th>4</th>\n      <td>221238</td>\n      <td>1993</td>\n      <td>2007</td>\n      <td>8</td>\n      <td>1761</td>\n      <td>3</td>\n      <td>mixed</td>\n      <td>individual_heating</td>\n      <td>management_in_trust</td>\n      <td>523.0</td>\n      <td>...</td>\n      <td>1.0</td>\n      <td>5.0</td>\n      <td>0.0</td>\n      <td>4.0</td>\n      <td>3.0</td>\n      <td>5.0</td>\n      <td>5.0</td>\n      <td>4</td>\n      <td>14.0</td>\n      <td>17.0</td>\n    </tr>\n  </tbody>\n</table>\n<p>5 rows × 30 columns</p>\n</div>"
          },
          "metadata": {}
        }
      ],
      "execution_count": 2,
      "metadata": {
        "collapsed": true,
        "jupyter": {
          "source_hidden": false,
          "outputs_hidden": false
        },
        "nteract": {
          "transient": {
            "deleting": false
          }
        },
        "gather": {
          "logged": 1609349359688
        }
      }
    },
    {
      "cell_type": "markdown",
      "source": [
        "## Split data\r\n",
        "\r\n",
        "Split data to training set and test set."
      ],
      "metadata": {
        "nteract": {
          "transient": {
            "deleting": false
          }
        }
      }
    },
    {
      "cell_type": "code",
      "source": [
        "train_dataset, test_dataset = aml_dataset.random_split(0.8, seed=23423)\r\n",
        "\r\n",
        "# Use Pandas DF only to check the data\r\n",
        "train_dataset_df = train_dataset.to_pandas_dataframe()\r\n",
        "test_dataset_df = test_dataset.to_pandas_dataframe()\r\n",
        "\r\n",
        "print(train_dataset_df.describe())"
      ],
      "outputs": [
        {
          "output_type": "stream",
          "name": "stdout",
          "text": [
            "           SalePrice    YearBuilt       YrSold    MonthSold    Size(sqf)  \\\n",
            "count    4712.000000  4712.000000  4712.000000  4712.000000  4712.000000   \n",
            "mean   221190.035017  2002.953523  2012.690365     6.182725   954.845289   \n",
            "std    105798.535899     8.860901     2.913136     3.399517   381.186609   \n",
            "min     32743.000000  1978.000000  2007.000000     1.000000   135.000000   \n",
            "25%    144752.000000  1993.000000  2010.000000     3.000000   644.000000   \n",
            "50%    207964.000000  2006.000000  2013.000000     6.000000   910.000000   \n",
            "75%    291150.000000  2008.000000  2015.000000     9.000000  1149.000000   \n",
            "max    585840.000000  2015.000000  2017.000000    12.000000  2337.000000   \n",
            "\n",
            "             Floor  N_Parkinglot(Ground)  N_Parkinglot(Basement)        N_APT  \\\n",
            "count  4712.000000           4712.000000             4712.000000  4712.000000   \n",
            "mean     11.929542            196.078311              572.262097     5.646647   \n",
            "std       7.519036            218.253233              408.010536     2.821840   \n",
            "min       1.000000              0.000000                0.000000     1.000000   \n",
            "25%       6.000000             11.000000              184.000000     3.000000   \n",
            "50%      11.000000            100.000000              536.000000     7.000000   \n",
            "75%      17.000000            249.000000              798.000000     8.000000   \n",
            "max      43.000000            713.000000             1321.000000    13.000000   \n",
            "\n",
            "         N_manager  ...  N_FacilitiesNearBy(Mall)  N_FacilitiesNearBy(ETC)  \\\n",
            "count  4712.000000  ...               4712.000000              4712.000000   \n",
            "mean      6.303268  ...                  0.941002                 1.943124   \n",
            "std       3.156487  ...                  0.397295                 2.203736   \n",
            "min       1.000000  ...                  0.000000                 0.000000   \n",
            "25%       5.000000  ...                  1.000000                 0.000000   \n",
            "50%       6.000000  ...                  1.000000                 1.000000   \n",
            "75%       8.000000  ...                  1.000000                 5.000000   \n",
            "max      14.000000  ...                  2.000000                 5.000000   \n",
            "\n",
            "       N_FacilitiesNearBy(Park)  N_SchoolNearBy(Elementary)  \\\n",
            "count               4712.000000                 4712.000000   \n",
            "mean                   0.649618                    3.023345   \n",
            "std                    0.656195                    0.956431   \n",
            "min                    0.000000                    0.000000   \n",
            "25%                    0.000000                    2.000000   \n",
            "50%                    1.000000                    3.000000   \n",
            "75%                    1.000000                    4.000000   \n",
            "max                    2.000000                    6.000000   \n",
            "\n",
            "       N_SchoolNearBy(Middle)  N_SchoolNearBy(High)  \\\n",
            "count             4712.000000           4712.000000   \n",
            "mean                 2.417869              2.658531   \n",
            "std                  1.039877              1.556519   \n",
            "min                  0.000000              0.000000   \n",
            "25%                  2.000000              1.000000   \n",
            "50%                  3.000000              2.000000   \n",
            "75%                  3.000000              4.000000   \n",
            "max                  4.000000              5.000000   \n",
            "\n",
            "       N_SchoolNearBy(University)  N_FacilitiesInApt  \\\n",
            "count                 4712.000000        4712.000000   \n",
            "mean                     2.765917           5.821520   \n",
            "std                      1.490136           2.328239   \n",
            "min                      0.000000           1.000000   \n",
            "25%                      2.000000           4.000000   \n",
            "50%                      2.000000           5.000000   \n",
            "75%                      4.000000           7.000000   \n",
            "max                      5.000000          10.000000   \n",
            "\n",
            "       N_FacilitiesNearBy(Total)  N_SchoolNearBy(Total)  \n",
            "count                4712.000000            4712.000000  \n",
            "mean                    9.865238              10.865662  \n",
            "std                     3.455925               4.441463  \n",
            "min                     0.000000               0.000000  \n",
            "25%                     8.000000               7.000000  \n",
            "50%                     9.000000              10.000000  \n",
            "75%                    13.000000              15.000000  \n",
            "max                    16.000000              17.000000  \n",
            "\n",
            "[8 rows x 24 columns]\n"
          ]
        }
      ],
      "execution_count": 3,
      "metadata": {
        "collapsed": true,
        "jupyter": {
          "source_hidden": false,
          "outputs_hidden": false
        },
        "nteract": {
          "transient": {
            "deleting": false
          }
        },
        "gather": {
          "logged": 1609350027332
        }
      }
    },
    {
      "cell_type": "markdown",
      "source": [
        "## Get the compute node"
      ],
      "metadata": {
        "nteract": {
          "transient": {
            "deleting": false
          }
        }
      }
    },
    {
      "cell_type": "code",
      "source": [
        "from azureml.core.compute import AmlCompute\r\n",
        "from azureml.core.compute import ComputeTarget\r\n",
        "\r\n",
        "amlcompute_cluster_name = \"default4\"\r\n",
        "\r\n",
        "found = False\r\n",
        "cts = ws.compute_targets\r\n",
        "\r\n",
        "if amlcompute_cluster_name in cts and cts[amlcompute_cluster_name].type == 'ComputeInstance':\r\n",
        "     found = True\r\n",
        "     print('Found existing training cluster.')\r\n",
        "     # Get existing cluster\r\n",
        "     # Method 1:\r\n",
        "     aml_remote_compute = cts[amlcompute_cluster_name]\r\n",
        "     # Method 2:\r\n",
        "     # aml_remote_compute = ComputeTarget(ws, amlcompute_cluster_name)\r\n",
        "    \r\n",
        "if not found:\r\n",
        "     print('Creating a new training cluster...')\r\n",
        "     provisioning_config = AmlCompute.provisioning_configuration(vm_size = \"STANDARD_D3_V2\", # for GPU, use \"STANDARD_NC12\"\r\n",
        "                                                                 #vm_priority = 'lowpriority', # optional\r\n",
        "                                                                 max_nodes = 20)\r\n",
        "     # Create the cluster.\r\n",
        "     aml_remote_compute = ComputeTarget.create(ws, amlcompute_cluster_name, provisioning_config)\r\n",
        "    \r\n",
        "print('Checking cluster status...')\r\n",
        "# Can poll for a minimum number of nodes and for a specific timeout.\r\n",
        "# If no min_node_count is provided, it will use the scale settings for the cluster.\r\n",
        "aml_remote_compute.wait_for_completion(show_output = True)"
      ],
      "outputs": [
        {
          "output_type": "stream",
          "name": "stdout",
          "text": [
            "Found existing training cluster.\n",
            "Checking cluster status...\n",
            "\n",
            "Running\n"
          ]
        }
      ],
      "execution_count": 4,
      "metadata": {
        "collapsed": true,
        "jupyter": {
          "source_hidden": false,
          "outputs_hidden": false
        },
        "nteract": {
          "transient": {
            "deleting": false
          }
        },
        "gather": {
          "logged": 1609350640624
        }
      }
    },
    {
      "cell_type": "markdown",
      "source": [
        "## Metrics to evaluate models\r\n",
        "Here I get the metrics related to regression task, to know what metric to set in the next step."
      ],
      "metadata": {
        "nteract": {
          "transient": {
            "deleting": false
          }
        }
      }
    },
    {
      "cell_type": "code",
      "source": [
        "from azureml.train import automl\r\n",
        "\r\n",
        "automl.utilities.get_primary_metrics('regression')"
      ],
      "outputs": [
        {
          "output_type": "execute_result",
          "execution_count": 6,
          "data": {
            "text/plain": "['r2_score',\n 'normalized_root_mean_squared_error',\n 'spearman_correlation',\n 'normalized_mean_absolute_error']"
          },
          "metadata": {}
        }
      ],
      "execution_count": 6,
      "metadata": {
        "collapsed": true,
        "jupyter": {
          "source_hidden": false,
          "outputs_hidden": false
        },
        "nteract": {
          "transient": {
            "deleting": false
          }
        },
        "gather": {
          "logged": 1609350691428
        }
      }
    },
    {
      "cell_type": "markdown",
      "source": [
        "## Define experiment\r\n",
        "\r\n",
        "In the below cell I define the experiment that will be run.\r\n",
        "There are three main settings:\r\n",
        " - task - 'regression'\r\n",
        " - primary_metric - 'r2_score'\r\n",
        " - label_column_name - 'SalePrice'"
      ],
      "metadata": {
        "nteract": {
          "transient": {
            "deleting": false
          }
        }
      }
    },
    {
      "cell_type": "code",
      "source": [
        "import logging\r\n",
        "import os\r\n",
        "\r\n",
        "from azureml.train.automl import AutoMLConfig\r\n",
        "\r\n",
        "project_folder = './'\r\n",
        "os.makedirs(project_folder, exist_ok=True)\r\n",
        "\r\n",
        "automl_config = AutoMLConfig(compute_target=aml_remote_compute,\r\n",
        "                             task='regression',\r\n",
        "                             primary_metric='r2_score',\r\n",
        "                             experiment_timeout_minutes=15,                            \r\n",
        "                             training_data=train_dataset,\r\n",
        "                             label_column_name=\"SalePrice\",\r\n",
        "                             n_cross_validations=5,\r\n",
        "                             # blacklist_models='XGBoostClassifier', \r\n",
        "                             # iteration_timeout_minutes=5,                                                    \r\n",
        "                             enable_early_stopping=True,\r\n",
        "                             featurization='auto',\r\n",
        "                             debug_log='automated_ml_errors.log',\r\n",
        "                             verbosity=logging.INFO,\r\n",
        "                             path=project_folder\r\n",
        "                             )"
      ],
      "outputs": [],
      "execution_count": 7,
      "metadata": {
        "collapsed": true,
        "jupyter": {
          "source_hidden": false,
          "outputs_hidden": false
        },
        "nteract": {
          "transient": {
            "deleting": false
          }
        },
        "gather": {
          "logged": 1609350710471
        }
      }
    },
    {
      "cell_type": "markdown",
      "source": [
        "## Run the experiment\r\n"
      ],
      "metadata": {
        "nteract": {
          "transient": {
            "deleting": false
          }
        }
      }
    },
    {
      "cell_type": "code",
      "source": [
        "from azureml.core import Experiment\r\n",
        "from datetime import datetime\r\n",
        "\r\n",
        "now = datetime.now()\r\n",
        "time_string = now.strftime(\"%m-%d-%Y-%H\")\r\n",
        "experiment_name = \"regress-automl-remote-{0}\".format(time_string)\r\n",
        "print(experiment_name)\r\n",
        "\r\n",
        "experiment = Experiment(workspace=ws, name=experiment_name)\r\n",
        "\r\n",
        "import time\r\n",
        "start_time = time.time()\r\n",
        "            \r\n",
        "run = experiment.submit(automl_config, show_output=True)\r\n",
        "\r\n",
        "print('Manual run timing: --- %s seconds needed for running the whole Remote AutoML Experiment ---' % (time.time() - start_time))"
      ],
      "outputs": [
        {
          "output_type": "stream",
          "name": "stdout",
          "text": [
            "regress-automl-remote-12-30-2020-17\n",
            "Running on remote.\n",
            "No run_configuration provided, running on default4 with default configuration\n",
            "Running on remote compute: default4\n",
            "Parent Run ID: AutoML_b3d0f831-2811-4050-a9ba-b7fa01774933\n",
            "\n",
            "Current status: FeaturesGeneration. Generating features for the dataset.\n",
            "Current status: DatasetFeaturization. Beginning to fit featurizers and featurize the dataset.\n",
            "Current status: DatasetCrossValidationSplit. Generating individually featurized CV splits.\n",
            "Current status: ModelSelection. Beginning model selection.\n",
            "\n",
            "****************************************************************************************************\n",
            "DATA GUARDRAILS: \n",
            "\n",
            "TYPE:         Missing feature values imputation\n",
            "STATUS:       PASSED\n",
            "DESCRIPTION:  No feature missing values were detected in the training data.\n",
            "              Learn more about missing value imputation: https://aka.ms/AutomatedMLFeaturization\n",
            "\n",
            "****************************************************************************************************\n",
            "\n",
            "TYPE:         High cardinality feature detection\n",
            "STATUS:       PASSED\n",
            "DESCRIPTION:  Your inputs were analyzed, and no high cardinality features were detected.\n",
            "              Learn more about high cardinality feature handling: https://aka.ms/AutomatedMLFeaturization\n",
            "\n",
            "****************************************************************************************************\n",
            "\n",
            "****************************************************************************************************\n",
            "ITERATION: The iteration being evaluated.\n",
            "PIPELINE: A summary description of the pipeline being evaluated.\n",
            "DURATION: Time taken for the current iteration.\n",
            "METRIC: The result of computing score on the fitted pipeline.\n",
            "BEST: The best observed score thus far.\n",
            "****************************************************************************************************\n",
            "\n",
            " ITERATION   PIPELINE                                       DURATION      METRIC      BEST\n",
            "         0   MaxAbsScaler LightGBM                          0:00:48       0.9769    0.9769\n",
            "         1   MaxAbsScaler XGBoostRegressor                  0:00:48       0.9573    0.9769\n",
            "         2   SparseNormalizer XGBoostRegressor              0:00:59       0.9702    0.9769\n",
            "         3   MaxAbsScaler RandomForest                      0:01:29       0.8982    0.9769\n",
            "         4   StandardScalerWrapper XGBoostRegressor         0:00:59       0.9768    0.9769\n",
            "         5   MaxAbsScaler ElasticNet                        0:01:02       0.9089    0.9769\n",
            "         6   MaxAbsScaler RandomForest                      0:01:54       0.8919    0.9769\n",
            "         7   StandardScalerWrapper XGBoostRegressor         0:00:48       0.9749    0.9769\n",
            "         8   MaxAbsScaler ExtremeRandomTrees                0:01:29       0.9482    0.9769\n",
            "         9   StandardScalerWrapper ElasticNet               0:00:54       0.9088    0.9769\n",
            "        10   MaxAbsScaler RandomForest                      0:01:16       0.8666    0.9769\n",
            "        11    VotingEnsemble                                0:01:06       0.9779    0.9779\n",
            "        12    StackEnsemble                                 0:01:08       0.9784    0.9784\n",
            "Manual run timing: --- 1491.248428106308 seconds needed for running the whole Remote AutoML Experiment ---\n"
          ]
        }
      ],
      "execution_count": 8,
      "metadata": {
        "collapsed": true,
        "jupyter": {
          "source_hidden": false,
          "outputs_hidden": false
        },
        "nteract": {
          "transient": {
            "deleting": false
          }
        },
        "gather": {
          "logged": 1609352261886
        }
      }
    },
    {
      "cell_type": "markdown",
      "source": [
        "## Show the best result"
      ],
      "metadata": {
        "nteract": {
          "transient": {
            "deleting": false
          }
        }
      }
    },
    {
      "cell_type": "code",
      "source": [
        "best_run, fitted_model = run.get_output()\r\n",
        "print(best_run)\r\n",
        "print(fitted_model)"
      ],
      "outputs": [
        {
          "output_type": "stream",
          "name": "stdout",
          "text": [
            "Run(Experiment: regress-automl-remote-12-30-2020-17,\n",
            "Id: AutoML_b3d0f831-2811-4050-a9ba-b7fa01774933_12,\n",
            "Type: azureml.scriptrun,\n",
            "Status: Completed)\n",
            "RegressionPipeline(pipeline=Pipeline(memory=None,\n",
            "                                     steps=[('datatransformer',\n",
            "                                             DataTransformer(enable_dnn=None,\n",
            "                                                             enable_feature_sweeping=None,\n",
            "                                                             feature_sweeping_config=None,\n",
            "                                                             feature_sweeping_timeout=None,\n",
            "                                                             featurization_config=None,\n",
            "                                                             force_text_dnn=None,\n",
            "                                                             is_cross_validation=None,\n",
            "                                                             is_onnx_compatible=None,\n",
            "                                                             logger=None,\n",
            "                                                             observer=None,\n",
            "                                                             task=None,\n",
            "                                                             working_dir=None)),\n",
            "                                            ('sta...\n",
            "                                                                                                                      tree_method='auto',\n",
            "                                                                                                                      verbose=-10,\n",
            "                                                                                                                      verbosity=0))],\n",
            "                                                                                             verbose=False))],\n",
            "                                                                    meta_learner=ElasticNetCV(alphas=None,\n",
            "                                                                                              copy_X=True,\n",
            "                                                                                              cv=None,\n",
            "                                                                                              eps=0.001,\n",
            "                                                                                              fit_intercept=True,\n",
            "                                                                                              l1_ratio=0.5,\n",
            "                                                                                              max_iter=1000,\n",
            "                                                                                              n_alphas=100,\n",
            "                                                                                              n_jobs=None,\n",
            "                                                                                              normalize=False,\n",
            "                                                                                              positive=False,\n",
            "                                                                                              precompute='auto',\n",
            "                                                                                              random_state=None,\n",
            "                                                                                              selection='cyclic',\n",
            "                                                                                              tol=0.0001,\n",
            "                                                                                              verbose=0),\n",
            "                                                                    training_cv_folds=5))],\n",
            "                                     verbose=False),\n",
            "                   stddev=None)\n"
          ]
        }
      ],
      "execution_count": 10,
      "metadata": {
        "collapsed": true,
        "jupyter": {
          "source_hidden": false,
          "outputs_hidden": false
        },
        "nteract": {
          "transient": {
            "deleting": false
          }
        },
        "gather": {
          "logged": 1609353936912
        }
      }
    },
    {
      "cell_type": "markdown",
      "source": [
        "## Predict values"
      ],
      "metadata": {
        "nteract": {
          "transient": {
            "deleting": false
          }
        }
      }
    },
    {
      "cell_type": "markdown",
      "source": [
        "Remove the predicted data column."
      ],
      "metadata": {
        "nteract": {
          "transient": {
            "deleting": false
          }
        }
      }
    },
    {
      "cell_type": "code",
      "source": [
        "import pandas as pd\r\n",
        "\r\n",
        "#Remove Label/y column\r\n",
        "if 'SalePrice' in test_dataset_df.columns:\r\n",
        "    y_test_df = test_dataset_df.pop('SalePrice')\r\n",
        "\r\n",
        "x_test_df = test_dataset_df"
      ],
      "outputs": [],
      "execution_count": 14,
      "metadata": {
        "collapsed": true,
        "jupyter": {
          "source_hidden": false,
          "outputs_hidden": false
        },
        "nteract": {
          "transient": {
            "deleting": false
          }
        },
        "gather": {
          "logged": 1609354132789
        }
      }
    },
    {
      "cell_type": "markdown",
      "source": [
        "Predict values and get 10 predictions."
      ],
      "metadata": {
        "nteract": {
          "transient": {
            "deleting": false
          }
        }
      }
    },
    {
      "cell_type": "code",
      "source": [
        "y_predictions = fitted_model.predict(x_test_df)\r\n",
        "\r\n",
        "print('10 predictions: ')\r\n",
        "print(y_predictions[:10])"
      ],
      "outputs": [
        {
          "output_type": "stream",
          "name": "stdout",
          "text": [
            "10 predictions: \n",
            "[ 53260.29297958 328536.45112727 189534.82674841  84655.59642399\n",
            "  53845.40404312 177425.06995282 182509.36666898 126561.71172731\n",
            " 196948.99789632  91413.50337866]\n"
          ]
        }
      ],
      "execution_count": 15,
      "metadata": {
        "collapsed": true,
        "jupyter": {
          "source_hidden": false,
          "outputs_hidden": false
        },
        "nteract": {
          "transient": {
            "deleting": false
          }
        },
        "gather": {
          "logged": 1609354143702
        }
      }
    },
    {
      "cell_type": "code",
      "source": [
        "y_predictions.shape"
      ],
      "outputs": [
        {
          "output_type": "execute_result",
          "execution_count": 16,
          "data": {
            "text/plain": "(1179,)"
          },
          "metadata": {}
        }
      ],
      "execution_count": 16,
      "metadata": {
        "collapsed": true,
        "jupyter": {
          "source_hidden": false,
          "outputs_hidden": false
        },
        "nteract": {
          "transient": {
            "deleting": false
          }
        },
        "gather": {
          "logged": 1609354148519
        }
      }
    },
    {
      "cell_type": "markdown",
      "source": [
        "Calculate and show r2 score:"
      ],
      "metadata": {
        "nteract": {
          "transient": {
            "deleting": false
          }
        }
      }
    },
    {
      "cell_type": "code",
      "source": [
        "from sklearn.metrics import r2_score\r\n",
        "\r\n",
        "print('R2 Score:')\r\n",
        "r2_score(y_test_df, y_predictions)"
      ],
      "outputs": [
        {
          "output_type": "stream",
          "name": "stdout",
          "text": [
            "R2 Score:\n"
          ]
        },
        {
          "output_type": "execute_result",
          "execution_count": 17,
          "data": {
            "text/plain": "0.9763867186258007"
          },
          "metadata": {}
        }
      ],
      "execution_count": 17,
      "metadata": {
        "collapsed": true,
        "jupyter": {
          "source_hidden": false,
          "outputs_hidden": false
        },
        "nteract": {
          "transient": {
            "deleting": false
          }
        },
        "gather": {
          "logged": 1609354153204
        }
      }
    },
    {
      "cell_type": "markdown",
      "source": [
        "The accuracy of the best model is at almost 98%. So it's trained really good."
      ],
      "metadata": {
        "nteract": {
          "transient": {
            "deleting": false
          }
        }
      }
    }
  ],
  "metadata": {
    "kernelspec": {
      "name": "python3-azureml",
      "language": "python",
      "display_name": "Python 3.6 - AzureML"
    },
    "language_info": {
      "name": "python",
      "version": "3.6.9",
      "mimetype": "text/x-python",
      "codemirror_mode": {
        "name": "ipython",
        "version": 3
      },
      "pygments_lexer": "ipython3",
      "nbconvert_exporter": "python",
      "file_extension": ".py"
    },
    "kernel_info": {
      "name": "python3-azureml"
    },
    "nteract": {
      "version": "nteract-front-end@1.0.0"
    }
  },
  "nbformat": 4,
  "nbformat_minor": 2
}